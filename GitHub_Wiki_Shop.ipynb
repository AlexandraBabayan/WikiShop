{
 "cells": [
  {
   "cell_type": "markdown",
   "metadata": {
    "toc": true
   },
   "source": [
    "<h1>Содержание<span class=\"tocSkip\"></span></h1>\n",
    "<div class=\"toc\"><ul class=\"toc-item\"><li><span><a href=\"#Подготовка\" data-toc-modified-id=\"Подготовка-1\"><span class=\"toc-item-num\">1&nbsp;&nbsp;</span>Подготовка</a></span></li><li><span><a href=\"#Отработка-кода-на-выброке-1000-строк\" data-toc-modified-id=\"Отработка-кода-на-выброке-1000-строк-2\"><span class=\"toc-item-num\">2&nbsp;&nbsp;</span>Отработка кода на выброке 1000 строк</a></span></li><li><span><a href=\"#Предобработка-данных-исходного-датасета\" data-toc-modified-id=\"Предобработка-данных-исходного-датасета-3\"><span class=\"toc-item-num\">3&nbsp;&nbsp;</span>Предобработка данных исходного датасета</a></span></li><li><span><a href=\"#Обучение\" data-toc-modified-id=\"Обучение-4\"><span class=\"toc-item-num\">4&nbsp;&nbsp;</span>Обучение</a></span></li><li><span><a href=\"#Тестирование-лучшей-модели\" data-toc-modified-id=\"Тестирование-лучшей-модели-5\"><span class=\"toc-item-num\">5&nbsp;&nbsp;</span>Тестирование лучшей модели</a></span></li><li><span><a href=\"#Выводы\" data-toc-modified-id=\"Выводы-6\"><span class=\"toc-item-num\">6&nbsp;&nbsp;</span>Выводы</a></span></li><li><span><a href=\"#Чек-лист-проверки\" data-toc-modified-id=\"Чек-лист-проверки-7\"><span class=\"toc-item-num\">7&nbsp;&nbsp;</span>Чек-лист проверки</a></span></li></ul></div>"
   ]
  },
  {
   "cell_type": "markdown",
   "metadata": {},
   "source": [
    "# Проект для «Викишоп»"
   ]
  },
  {
   "cell_type": "markdown",
   "metadata": {},
   "source": [
    "Интернет-магазин «Викишоп» запускает новый сервис. Теперь пользователи могут редактировать и дополнять описания товаров, как в вики-сообществах. То есть клиенты предлагают свои правки и комментируют изменения других. Магазину нужен инструмент, который будет искать токсичные комментарии и отправлять их на модерацию. \n",
    "\n",
    "Обучите модель классифицировать комментарии на позитивные и негативные. В вашем распоряжении набор данных с разметкой о токсичности правок.\n",
    "\n",
    "Постройте модель со значением метрики качества *F1* не меньше 0.75. \n",
    "\n",
    "**Инструкция по выполнению проекта**\n",
    "\n",
    "1. Загрузите и подготовьте данные.\n",
    "2. Обучите разные модели. \n",
    "3. Сделайте выводы.\n",
    "\n",
    "Для выполнения проекта применять *BERT* необязательно, но вы можете попробовать.\n",
    "\n",
    "**Описание данных**\n",
    "\n",
    "Данные находятся в файле `toxic_comments.csv`. Столбец *text* в нём содержит текст комментария, а *toxic* — целевой признак."
   ]
  },
  {
   "cell_type": "markdown",
   "metadata": {},
   "source": [
    "## Подготовка"
   ]
  },
  {
   "cell_type": "markdown",
   "metadata": {},
   "source": [
    "Установка Spacy"
   ]
  },
  {
   "cell_type": "code",
   "execution_count": 1,
   "metadata": {},
   "outputs": [],
   "source": [
    "# Install spaCy\n",
    "import sys\n",
    "!{sys.executable} -m pip install spacy -q\n",
    "\n",
    "!{sys.executable} -m spacy download en_core_web_sm -q\n",
    "\n",
    "import spacy\n",
    "# Initialize spacy 'en' model, keeping only tagger component needed for lemmatization\n",
    "nlp = spacy.load('en_core_web_sm', disable=['parser', 'ner'])"
   ]
  },
  {
   "cell_type": "code",
   "execution_count": 2,
   "metadata": {},
   "outputs": [],
   "source": [
    "!pip install catboost -q\n",
    "!pip install lightgbm -q"
   ]
  },
  {
   "cell_type": "markdown",
   "metadata": {},
   "source": [
    "Импорты"
   ]
  },
  {
   "cell_type": "code",
   "execution_count": 3,
   "metadata": {},
   "outputs": [],
   "source": [
    "import catboost\n",
    "import lightgbm \n",
    "import pandas as pd\n",
    "import numpy as np\n",
    "import re \n",
    "import time\n",
    "import nltk\n",
    "from nltk.corpus import stopwords \n",
    "nltk.download('stopwords')\n",
    "stopwords = set(stopwords.words('english'))\n",
    "\n",
    "from catboost import CatBoostClassifier\n",
    "from lightgbm import LGBMClassifier\n",
    "from sklearn.feature_extraction.text import CountVectorizer \n",
    "from sklearn.feature_extraction.text import TfidfVectorizer\n",
    "from sklearn.model_selection import (TimeSeriesSplit,\n",
    "                                     train_test_split,\n",
    "                                     RandomizedSearchCV)\n",
    "\n",
    "from sklearn.linear_model import LogisticRegression\n",
    "from sklearn.naive_bayes import ComplementNB\n",
    "from sklearn.pipeline import Pipeline\n",
    "from sklearn.tree import DecisionTreeClassifier\n",
    "\n",
    "from sklearn import metrics\n",
    "from sklearn.metrics import f1_score\n",
    "from tqdm import tqdm\n",
    "from tqdm import notebook "
   ]
  },
  {
   "cell_type": "markdown",
   "metadata": {},
   "source": [
    "Загрузка данных"
   ]
  },
  {
   "cell_type": "code",
   "execution_count": 4,
   "metadata": {},
   "outputs": [],
   "source": [
    "data = pd.read_csv('https://code.s3.yandex.net/datasets/toxic_comments.csv')"
   ]
  },
  {
   "cell_type": "code",
   "execution_count": 10,
   "metadata": {},
   "outputs": [
    {
     "data": {},
     "metadata": {},
     "output_type": "display_data"
    }
   ],
   "source": [
    "display(data.head())"
   ]
  },
  {
   "cell_type": "markdown",
   "metadata": {},
   "source": [
    " Поскольку код на полном датасете работает долго, для отработки и налаживания кода я создала случайную выборку из 1000 строк (small_df). После того, как все заработало, я применила код в полному датасету. Далее код с выборкой small_df закомментирован. После закомментированного кода идет уже все то же самое, но на полном датасете.\n"
   ]
  },
  {
   "cell_type": "markdown",
   "metadata": {},
   "source": [
    "## Отработка кода на выброке 1000 строк"
   ]
  },
  {
   "cell_type": "code",
   "execution_count": 5,
   "metadata": {},
   "outputs": [],
   "source": [
    "#small_df = data.sample(1000).reset_index(drop = True)\n"
   ]
  },
  {
   "cell_type": "code",
   "execution_count": 6,
   "metadata": {},
   "outputs": [
    {
     "data": {},
     "execution_count": 6,
     "metadata": {},
     "output_type": "execute_result"
    }
   ],
   "source": [
    "#small_df.head()"
   ]
  },
  {
   "cell_type": "markdown",
   "metadata": {},
   "source": [
    "Чтобы алгоритмы умели определять тематику и тональность текста, их нужно обучить на корпусе. \n",
    "Создадим корпус постов. Преобразуем столбец 'text' в список текстов. Переведём тексты в стандартный для Python формат: кодировку Unicode U. "
   ]
  },
  {
   "cell_type": "code",
   "execution_count": 7,
   "metadata": {},
   "outputs": [],
   "source": [
    "#small_df['text'] = small_df['text'].values.astype('U')"
   ]
  },
  {
   "cell_type": "markdown",
   "metadata": {},
   "source": [
    "***Напишем функцию clear_text(text), которая оставит в тексте только латинские символы и пробелы. На вход принимает текст, а возвращает очищенный текст. Дополнительно уберем лишние пробелы.***"
   ]
  },
  {
   "cell_type": "code",
   "execution_count": 5,
   "metadata": {},
   "outputs": [],
   "source": [
    "tqdm.pandas()\n",
    "def clear_text(text):\n",
    "    latin = re.sub(r'[^a-zA-Z]', ' ', text)\n",
    "    cleared_text = \" \".join(latin.split())\n",
    "    return cleared_text "
   ]
  },
  {
   "cell_type": "code",
   "execution_count": 10,
   "metadata": {},
   "outputs": [],
   "source": [
    "#small_df['text'] = small_df['text'].apply(clear_text)"
   ]
  },
  {
   "cell_type": "markdown",
   "metadata": {},
   "source": [
    "***Напишем функцию, которая на вход принимает текст из корпуса и возвращает лемматизированные строки.***"
   ]
  },
  {
   "cell_type": "code",
   "execution_count": 6,
   "metadata": {},
   "outputs": [],
   "source": [
    "tqdm.pandas()\n",
    "\n",
    "def lemmatize(text):\n",
    "    doc = nlp(text)\n",
    "    lemmatized_text = \" \".join([token.lemma_ for token in doc])\n",
    "    return lemmatized_text"
   ]
  },
  {
   "cell_type": "markdown",
   "metadata": {},
   "source": [
    "Применим функцию lemmatize к подготовленному тексту (только латинские символы и пробелы)"
   ]
  },
  {
   "cell_type": "code",
   "execution_count": 12,
   "metadata": {},
   "outputs": [],
   "source": [
    "#small_df['lemmatized_text'] = small_df['text'].progress_apply(lemmatize)"
   ]
  },
  {
   "cell_type": "markdown",
   "metadata": {},
   "source": [
    "Приведем текст к нижнему регистру."
   ]
  },
  {
   "cell_type": "code",
   "execution_count": 14,
   "metadata": {},
   "outputs": [
    {
     "data": {},
     "metadata": {},
     "output_type": "display_data"
    }
   ],
   "source": [
    "#small_df['lemmatized_text'] = small_df['lemmatized_text'].str.lower()\n",
    "#display(small_df.head())"
   ]
  },
  {
   "cell_type": "markdown",
   "metadata": {},
   "source": [
    "Разделим данные на обучающую и тестовую выборки. \n",
    "Сейчас мы работаем только с выборкой из 1000 строк, поэтому нужно помнить, что метрики на ткой выборке будет низкая. После отработки кода (на выборке это займет сильно меньше времени) сделаем все на полном датасете."
   ]
  },
  {
   "cell_type": "code",
   "execution_count": 19,
   "metadata": {},
   "outputs": [],
   "source": [
    "# Разделение датафрейма на признаки и таргет\n",
    "#features = small_df['lemmatized_text']\n",
    "#target = small_df['toxic']\n",
    "\n",
    "# Разделение выборок на обучающие и тестовые\n",
    "#features_train, features_test, target_train, target_test = train_test_split(\n",
    "#    features, \n",
    "#    target, \n",
    "#    test_size = 0.25, \n",
    "#    stratify=target, \n",
    "#    random_state = 42\n",
    "#) \n",
    "\n"
   ]
  },
  {
   "cell_type": "markdown",
   "metadata": {},
   "source": [
    "## Предобработка данных исходного датасета"
   ]
  },
  {
   "cell_type": "markdown",
   "metadata": {},
   "source": [
    "Оставим в датасете только латинские символы и пробелы применив функцию clear_text."
   ]
  },
  {
   "cell_type": "code",
   "execution_count": 7,
   "metadata": {},
   "outputs": [],
   "source": [
    "data['text'] = data['text'].progress_apply(clear_text)"
   ]
  },
  {
   "cell_type": "markdown",
   "metadata": {},
   "source": [
    "Лемматизация текста"
   ]
  },
  {
   "cell_type": "code",
   "execution_count": 9,
   "metadata": {},
   "outputs": [],
   "source": [
    "data['lemmatized_text'] = data['text'].progress_apply(lemmatize)"
   ]
  },
  {
   "cell_type": "markdown",
   "metadata": {},
   "source": [
    "Приведем текст к нижнему регистру."
   ]
  },
  {
   "cell_type": "code",
   "execution_count": 10,
   "metadata": {
    "scrolled": false
   },
   "outputs": [
    {
     "data": {},
     "metadata": {},
     "output_type": "display_data"
    }
   ],
   "source": [
    "data['lemmatized_text'] = data['lemmatized_text'].str.lower()\n",
    "display(data.head())"
   ]
  },
  {
   "cell_type": "markdown",
   "metadata": {},
   "source": [
    "***Проверка на сбалансированность данных***"
   ]
  },
  {
   "cell_type": "markdown",
   "metadata": {},
   "source": [
    "Для определения параметров моделей обучения, нужно понять распределение значений целевого признака."
   ]
  },
  {
   "cell_type": "code",
   "execution_count": 11,
   "metadata": {},
   "outputs": [
    {
     "data": {
      "image/png": "[encoded data removed]"
     },
     "metadata": {
      "needs_background": "light"
     },
     "output_type": "display_data"
    }
   ],
   "source": [
    "data['toxic'].value_counts().plot(kind='bar', figsize = (6, 3), title = 'Распределение комментариев, 1 - токсичные, 0 - нет', \\\n",
    "                                  xlabel = 'toxic', ylabel = 'number of comments', grid = True);"
   ]
  },
  {
   "cell_type": "markdown",
   "metadata": {},
   "source": [
    "Примерно 12% комментариев токсичны. Имеет место дисбаланс классов, нужно учитывать это при обучении моделей."
   ]
  },
  {
   "cell_type": "markdown",
   "metadata": {},
   "source": [
    "Проверим датасет на полные дубликаты.\n"
   ]
  },
  {
   "cell_type": "code",
   "execution_count": 12,
   "metadata": {},
   "outputs": [
    {
     "data": {},
     "execution_count": 12,
     "metadata": {},
     "output_type": "execute_result"
    }
   ],
   "source": [
    "data.duplicated().sum()"
   ]
  },
  {
   "cell_type": "markdown",
   "metadata": {},
   "source": [
    "Дубликатов нет."
   ]
  },
  {
   "cell_type": "markdown",
   "metadata": {},
   "source": [
    "Разделим данные на обучающую и тестовую выборки. "
   ]
  },
  {
   "cell_type": "code",
   "execution_count": 13,
   "metadata": {},
   "outputs": [],
   "source": [
    "# Разделение датафрейма на признаки и таргет\n",
    "features = data['lemmatized_text']\n",
    "target = data['toxic']\n",
    "\n",
    "# Разделение выборок на обучающие и тестовые\n",
    "features_train, features_test, target_train, target_test = train_test_split(\n",
    "    features, \n",
    "    target, \n",
    "    test_size = 0.25, \n",
    "    stratify=target, \n",
    "    random_state = 42\n",
    ") "
   ]
  },
  {
   "cell_type": "markdown",
   "metadata": {},
   "source": [
    "**Выводы по подготовке данных:** \n",
    "\n",
    "На этапе подготовки данных\n",
    "\n",
    "- Перевели столбец 'text' в корпус текстов;\n",
    "- оставили в датасете только атинские символы и пробелы, убрав лишее функцией clear_text;\n",
    "- провели лемматизацию текста, привели текст к нижнему регистру;\n",
    "- проверили текст на дубликаты;\n",
    "- разделили на тренировочную и тестовую выборки."
   ]
  },
  {
   "cell_type": "markdown",
   "metadata": {},
   "source": [
    "## Обучение "
   ]
  },
  {
   "cell_type": "markdown",
   "metadata": {},
   "source": [
    "***Создадим таблицу для сравнения результатов обучения несольких моделей.***"
   ]
  },
  {
   "cell_type": "code",
   "execution_count": 14,
   "metadata": {},
   "outputs": [],
   "source": [
    "df_results = pd.DataFrame(columns=['name_model', 'best_score_', \n",
    "                                   'parameters', 'time, c'])"
   ]
  },
  {
   "cell_type": "markdown",
   "metadata": {},
   "source": [
    "***Создадим функцию, которая добавит результы в таблицу df_results: название модели, лучшая метрика f1, параметры, время обучения модели.***"
   ]
  },
  {
   "cell_type": "code",
   "execution_count": 15,
   "metadata": {},
   "outputs": [],
   "source": [
    "def model_metrics(name_model, best_score, params, time):\n",
    "    if name_model not in list(df_results['name_model']):  \n",
    "        df_results.loc[len(df_results.index )] = \\\n",
    "            [name_model, best_score, params, time]\n",
    "        \n",
    "    display(df_results)     "
   ]
  },
  {
   "cell_type": "markdown",
   "metadata": {},
   "source": [
    " ***Создадим функцию, которая на вход принимает пайплайн модели, parametrs, название модели, а\n",
    "  возвращает:***\n",
    "   - название модели;\n",
    "   - лучшую метрику f1;\n",
    "   - лучшие пераметры модели по итогам подбора Randomized_search;\n",
    "   - время обучения."
   ]
  },
  {
   "cell_type": "code",
   "execution_count": 16,
   "metadata": {},
   "outputs": [],
   "source": [
    "def model_creation(pipeline, parametrs, name):\n",
    "    # Чтобы видеть прогресс выполнения поставим tqdm с разовым циклом:\n",
    "    for _ in tqdm(range(1)): \n",
    "        start = time.time()\n",
    "        #Применяем RandomizedSearchCV\n",
    "        randomized_search = RandomizedSearchCV(pipeline, parametrs, scoring='f1', \n",
    "                            return_train_score=True)\n",
    "        randomized_search.fit(features_train, target_train)  \n",
    "        model_metrics(name, randomized_search.best_score_, \n",
    "                      randomized_search.best_params_, time.time() - start)"
   ]
  },
  {
   "cell_type": "markdown",
   "metadata": {},
   "source": [
    "Поскольку в выборке имеетместо явный дисбаланс классов, будем использовать комплементарный байесовский классификатор (ComplementNB), подходящий для несбалансированных наборов данных. Алгоритм учитывает не только частоту признаков в выборке, но и их отсутствие в других классах, что делает его менее чувствительным к смещению выборки."
   ]
  },
  {
   "cell_type": "markdown",
   "metadata": {},
   "source": [
    "***Модель ComplementNB***\n"
   ]
  },
  {
   "cell_type": "code",
   "execution_count": 17,
   "metadata": {},
   "outputs": [],
   "source": [
    "\n",
    "pipe_nb = Pipeline([\n",
    "                    ('vect', TfidfVectorizer(stop_words = list(stopwords))),\n",
    "                    ('clf', ComplementNB())\n",
    "])\n",
    "\n",
    "params_nb = {\n",
    "    \"vect__max_df\": (0.2, 0.4, 0.6, 0.8, 1.0),\n",
    "    \"vect__min_df\": (1, 3, 5, 10),\n",
    "    \"vect__ngram_range\": ((1, 1), (1, 2)),  # unigrams or bigrams\n",
    "    \"vect__norm\": (\"l1\", \"l2\")\n",
    "}"
   ]
  },
  {
   "cell_type": "code",
   "execution_count": 18,
   "metadata": {
    "scrolled": true
   },
   "outputs": [
    {
     "data": {},
     "metadata": {},
     "output_type": "display_data"
    }
   ],
   "source": [
    "tqdm.pandas()\n",
    "model_creation(pipe_nb, params_nb, ComplementNB)"
   ]
  },
  {
   "cell_type": "markdown",
   "metadata": {},
   "source": [
    "***Модель LogRegression***"
   ]
  },
  {
   "cell_type": "code",
   "execution_count": 19,
   "metadata": {},
   "outputs": [],
   "source": [
    "pipe_lr = Pipeline([\n",
    "                    ('vect', TfidfVectorizer(stop_words = list(stopwords))),\n",
    "                    ('model', LogisticRegression(fit_intercept=True, \n",
    "                                random_state = 42,\n",
    "                                solver='liblinear'))\n",
    "                  ])"
   ]
  },
  {
   "cell_type": "code",
   "execution_count": 20,
   "metadata": {},
   "outputs": [],
   "source": [
    "params_lr = {\n",
    "             'model__C': [0.01, 0.1, 1, 10, 100],\n",
    "             'model__class_weight': [None, 'balanced']\n",
    "            }"
   ]
  },
  {
   "cell_type": "code",
   "execution_count": 21,
   "metadata": {
    "scrolled": false
   },
   "outputs": [
    {
     "data": {},
     "metadata": {},
     "output_type": "display_data"
    }
   ],
   "source": [
    "model_creation(pipe_lr, params_lr, LogisticRegression)"
   ]
  },
  {
   "cell_type": "markdown",
   "metadata": {},
   "source": [
    "***Модель LGBM Classifier***"
   ]
  },
  {
   "cell_type": "code",
   "execution_count": 22,
   "metadata": {},
   "outputs": [],
   "source": [
    "pipe_lgbm =  Pipeline([\n",
    "                    ('vect', TfidfVectorizer()),\n",
    "                    ('model', LGBMClassifier(\n",
    "                                            learning_rate = 0.15, \n",
    "                                            random_state = 42\n",
    "                                            ))\n",
    "                     ])\n",
    "params_lgbm = {\n",
    "                   'model__max_depth': [10, 15, 30],\n",
    "                   'model__n_estimators': [500]\n",
    "                  }\n",
    "    "
   ]
  },
  {
   "cell_type": "code",
   "execution_count": 23,
   "metadata": {},
   "outputs": [
    {
     "data": {},
     "metadata": {},
     "output_type": "display_data"
    }
   ],
   "source": [
    "model_creation(pipe_lgbm, params_lgbm, LGBMClassifier)"
   ]
  },
  {
   "cell_type": "code",
   "execution_count": 24,
   "metadata": {},
   "outputs": [
    {
     "data": {},
     "metadata": {},
     "output_type": "display_data"
    }
   ],
   "source": [
    "display(df_results)"
   ]
  },
  {
   "cell_type": "markdown",
   "metadata": {},
   "source": [
    "**Выводы по этапу обучения:**\n",
    "\n",
    "***1)*** Создали и обучили модели с использованием RandomizedSearchCV:\n",
    "\n",
    "- байесовский классификатор для несбалансированных данных ComplementNB;\n",
    "- LogisticRegression;\n",
    "- LGBMClassifier.\n",
    "\n",
    "***2)*** По итогам обучения учшая метрика у модели LightGBM, f1 = 78,6%, но и время обучения у нее в 2 раза дольше (789 секунд), чем у второй по качеству модели LogisticRegression, где метрика f1 равна 77,6%, а время обучения - 396 секунд.\n",
    "\n",
    "***3)*** Я бы рекомендовала для использования модель LogisticRegression, т к ее метрика проходит критерий заказчика (f1 более 75%), метрика только на 1% уступает метрике лучшей модели, но время обучения LogRegression в два раза меньше, чем у лучшей по метрике LightGBM."
   ]
  },
  {
   "cell_type": "markdown",
   "metadata": {},
   "source": [
    "## Тестирование лучшей модели"
   ]
  },
  {
   "cell_type": "code",
   "execution_count": 35,
   "metadata": {},
   "outputs": [],
   "source": [
    "pipe_lr = Pipeline([\n",
    "                    ('vect', TfidfVectorizer(stop_words = list(stopwords))),\n",
    "                    ('model', LogisticRegression(fit_intercept=True, \n",
    "                                random_state = 42,\n",
    "                                solver='liblinear', \n",
    "                                class_weight = None,\n",
    "                                C = 10))\n",
    "                  ])"
   ]
  },
  {
   "cell_type": "code",
   "execution_count": 36,
   "metadata": {},
   "outputs": [],
   "source": [
    "best_model = pipe_lr"
   ]
  },
  {
   "cell_type": "code",
   "execution_count": 37,
   "metadata": {},
   "outputs": [],
   "source": [
    "best_model.fit(features_train, target_train) \n",
    "predict_data = best_model.predict(features_test)\n",
    "f1_score_test = f1_score(target_test, predict_data)\n",
    "print(f1_score_test)"
   ]
  },
  {
   "cell_type": "code",
   "execution_count": 28,
   "metadata": {},
   "outputs": [],
   "source": [
    "print(f'F1 лучшей модели на тестовой выборке равна {f1_score_test:.3f}')"
   ]
  },
  {
   "cell_type": "markdown",
   "metadata": {},
   "source": [
    "Лучшая по соотношению метрики и времени обучения модель LogisticRegression показала на тестовой выборке еще более высокое качество, метрику f1 равную 78,2%."
   ]
  },
  {
   "cell_type": "markdown",
   "metadata": {},
   "source": [
    "## Выводы"
   ]
  },
  {
   "cell_type": "markdown",
   "metadata": {},
   "source": [
    "**1)** Данные загружены. Для экономии времени отрбаотка и тестирование кода проведено на  выборке из 1000 строк.\n",
    "\n",
    "**2)** Проведена предобработка данных исходного датасета:\n",
    "\n",
    "- преобразовади столбец 'text' в список текстов;\n",
    "- убрали лишние символы и пробелмы с помощью функции clear_text:\n",
    "- создали дополнительный столбец с лемматизированным текстом, привели текст к нижнему регистру;\n",
    "- выявили дисбаланс классов;\n",
    "- проверили данные на полные дубликаты;\n",
    "- разделили данные на обучающую и тестовую выборки в соотношении 3:1.\n",
    "\n",
    "**3)** Создали пайплайны для трех моделей, включили векторизацию текстов в пайплайн.\n",
    "Обучили модели с использованием RandomizedSearchCV:\n",
    "- ComplementNB;\n",
    "- LogisticRegression;\n",
    "- LGBMClassifier.\n",
    "\n",
    "**4)** По итогам сравнения результатов обучения самую высокую метрику выдала модель LGBM, но время обучения этой модели в 2 раза выше (789 секунд), чем у второй, но не сильно уступающей по метрике, модели LogisticRegression. \n",
    "\n",
    "**5)** Для тестирования выбрали модель LogisticRegression с оптимальным соотношением метрики (77,6%) и времени обучения (396 секунд). На тестовой выборке модель LogisticRegression показала еще более высокую метрику 78,2%, что проходит критерий заказчика (f1 более 75%). \n",
    "Для классифицикации комментариев клиентов на позитивные и негативные рекомендуем заказчику использование модели LogisticRegression."
   ]
  }
 ],
 "metadata": {
  "ExecuteTimeLog": [
   {
    "duration": 14803,
    "start_time": "2024-06-01T09:11:51.447Z"
   },
   {
    "duration": 628,
    "start_time": "2024-06-01T09:12:12.533Z"
   },
   {
    "duration": 4310,
    "start_time": "2024-06-01T09:12:19.778Z"
   },
   {
    "duration": 3,
    "start_time": "2024-06-01T09:12:32.146Z"
   },
   {
    "duration": 2,
    "start_time": "2024-06-01T09:12:36.237Z"
   },
   {
    "duration": 350,
    "start_time": "2024-06-01T09:12:40.826Z"
   },
   {
    "duration": 21,
    "start_time": "2024-06-01T09:13:36.094Z"
   },
   {
    "duration": 21,
    "start_time": "2024-06-01T09:13:45.347Z"
   },
   {
    "duration": 21,
    "start_time": "2024-06-01T09:13:54.886Z"
   },
   {
    "duration": 23,
    "start_time": "2024-06-01T09:15:31.734Z"
   },
   {
    "duration": 3,
    "start_time": "2024-06-01T09:25:03.018Z"
   },
   {
    "duration": 27,
    "start_time": "2024-06-01T09:25:05.749Z"
   },
   {
    "duration": 3,
    "start_time": "2024-06-01T09:25:23.201Z"
   },
   {
    "duration": 22,
    "start_time": "2024-06-01T09:25:25.830Z"
   },
   {
    "duration": 22,
    "start_time": "2024-06-01T09:25:37.155Z"
   },
   {
    "duration": 14454,
    "start_time": "2024-06-01T09:25:47.294Z"
   },
   {
    "duration": 619,
    "start_time": "2024-06-01T09:26:04.747Z"
   },
   {
    "duration": 2912,
    "start_time": "2024-06-01T09:26:09.285Z"
   },
   {
    "duration": 808,
    "start_time": "2024-06-01T09:26:21.275Z"
   },
   {
    "duration": 13,
    "start_time": "2024-06-01T09:26:29.964Z"
   },
   {
    "duration": 49,
    "start_time": "2024-06-01T09:28:04.489Z"
   },
   {
    "duration": 14266,
    "start_time": "2024-06-01T09:28:12.085Z"
   },
   {
    "duration": 630,
    "start_time": "2024-06-01T09:28:28.076Z"
   },
   {
    "duration": 2173,
    "start_time": "2024-06-01T09:28:36.074Z"
   },
   {
    "duration": 2102,
    "start_time": "2024-06-01T09:28:39.694Z"
   },
   {
    "duration": 5,
    "start_time": "2024-06-01T09:28:43.635Z"
   },
   {
    "duration": 312,
    "start_time": "2024-06-01T09:29:00.907Z"
   },
   {
    "duration": 22,
    "start_time": "2024-06-01T09:34:34.442Z"
   },
   {
    "duration": 23,
    "start_time": "2024-06-01T09:34:43.283Z"
   },
   {
    "duration": 13,
    "start_time": "2024-06-01T09:40:15.608Z"
   },
   {
    "duration": 3,
    "start_time": "2024-06-01T09:40:21.580Z"
   },
   {
    "duration": 3,
    "start_time": "2024-06-01T09:40:24.195Z"
   },
   {
    "duration": 12,
    "start_time": "2024-06-01T09:41:05.727Z"
   },
   {
    "duration": 3,
    "start_time": "2024-06-01T09:42:05.318Z"
   },
   {
    "duration": 14303,
    "start_time": "2024-06-01T09:53:32.331Z"
   },
   {
    "duration": 647,
    "start_time": "2024-06-01T09:53:46.636Z"
   },
   {
    "duration": 860,
    "start_time": "2024-06-01T09:53:53.213Z"
   },
   {
    "duration": 2121,
    "start_time": "2024-06-01T09:53:55.973Z"
   },
   {
    "duration": 3,
    "start_time": "2024-06-01T09:54:02.333Z"
   },
   {
    "duration": 2,
    "start_time": "2024-06-01T09:54:04.971Z"
   },
   {
    "duration": 2,
    "start_time": "2024-06-01T09:54:07.823Z"
   },
   {
    "duration": 12,
    "start_time": "2024-06-01T09:54:10.003Z"
   },
   {
    "duration": 3,
    "start_time": "2024-06-01T09:54:11.326Z"
   },
   {
    "duration": 13,
    "start_time": "2024-06-01T09:55:39.887Z"
   },
   {
    "duration": 316,
    "start_time": "2024-06-01T10:00:27.405Z"
   },
   {
    "duration": 4,
    "start_time": "2024-06-01T10:01:11.529Z"
   },
   {
    "duration": 14,
    "start_time": "2024-06-01T10:01:15.276Z"
   },
   {
    "duration": 4,
    "start_time": "2024-06-01T10:02:07.549Z"
   },
   {
    "duration": 13,
    "start_time": "2024-06-01T10:02:16.183Z"
   },
   {
    "duration": 2,
    "start_time": "2024-06-01T10:02:31.814Z"
   },
   {
    "duration": 14350,
    "start_time": "2024-06-01T10:09:58.536Z"
   },
   {
    "duration": 676,
    "start_time": "2024-06-01T10:10:14.057Z"
   },
   {
    "duration": 823,
    "start_time": "2024-06-01T10:10:20.084Z"
   },
   {
    "duration": 2099,
    "start_time": "2024-06-01T10:10:26.096Z"
   },
   {
    "duration": 3,
    "start_time": "2024-06-01T10:10:29.766Z"
   },
   {
    "duration": 3996,
    "start_time": "2024-06-01T10:10:31.767Z"
   },
   {
    "duration": 13,
    "start_time": "2024-06-01T10:10:49.227Z"
   },
   {
    "duration": 3,
    "start_time": "2024-06-01T10:10:54.681Z"
   },
   {
    "duration": 827556,
    "start_time": "2024-06-01T10:10:58.647Z"
   },
   {
    "duration": 3,
    "start_time": "2024-06-01T10:24:46.205Z"
   },
   {
    "duration": 14302,
    "start_time": "2024-06-01T10:26:04.454Z"
   },
   {
    "duration": 699,
    "start_time": "2024-06-01T10:26:24.730Z"
   },
   {
    "duration": 845,
    "start_time": "2024-06-01T10:26:31.157Z"
   },
   {
    "duration": 3,
    "start_time": "2024-06-01T10:26:39.203Z"
   },
   {
    "duration": 3934,
    "start_time": "2024-06-01T10:26:40.515Z"
   },
   {
    "duration": 3279,
    "start_time": "2024-06-01T10:26:49.476Z"
   },
   {
    "duration": 2,
    "start_time": "2024-06-01T10:26:58.596Z"
   },
   {
    "duration": 16824,
    "start_time": "2024-06-01T14:21:05.989Z"
   },
   {
    "duration": 869,
    "start_time": "2024-06-01T14:21:26.258Z"
   },
   {
    "duration": 3323,
    "start_time": "2024-06-01T14:21:33.878Z"
   },
   {
    "duration": 16,
    "start_time": "2024-06-01T14:21:40.446Z"
   },
   {
    "duration": 10,
    "start_time": "2024-06-01T14:21:49.421Z"
   },
   {
    "duration": 3,
    "start_time": "2024-06-01T14:21:53.167Z"
   },
   {
    "duration": 44,
    "start_time": "2024-06-01T14:21:54.907Z"
   },
   {
    "duration": 8,
    "start_time": "2024-06-01T14:21:56.548Z"
   },
   {
    "duration": 377,
    "start_time": "2024-06-01T14:25:46.354Z"
   },
   {
    "duration": 7,
    "start_time": "2024-06-01T14:26:24.806Z"
   },
   {
    "duration": 20,
    "start_time": "2024-06-01T14:26:31.104Z"
   },
   {
    "duration": 6,
    "start_time": "2024-06-01T14:31:09.490Z"
   },
   {
    "duration": 4,
    "start_time": "2024-06-01T14:31:16.189Z"
   },
   {
    "duration": 8080,
    "start_time": "2024-06-01T14:31:20.871Z"
   },
   {
    "duration": 9,
    "start_time": "2024-06-01T14:31:35.774Z"
   },
   {
    "duration": 12,
    "start_time": "2024-06-01T14:46:56.363Z"
   },
   {
    "duration": 45,
    "start_time": "2024-06-01T14:46:58.263Z"
   },
   {
    "duration": 14,
    "start_time": "2024-06-01T14:51:12.369Z"
   },
   {
    "duration": 4,
    "start_time": "2024-06-01T14:51:25.626Z"
   },
   {
    "duration": 7,
    "start_time": "2024-06-01T14:52:31.789Z"
   },
   {
    "duration": 78,
    "start_time": "2024-06-01T14:52:57.943Z"
   },
   {
    "duration": 16570,
    "start_time": "2024-06-03T08:20:34.278Z"
   },
   {
    "duration": 815,
    "start_time": "2024-06-03T08:20:52.714Z"
   },
   {
    "duration": 3577,
    "start_time": "2024-06-03T08:21:04.393Z"
   },
   {
    "duration": 16,
    "start_time": "2024-06-03T08:21:10.634Z"
   },
   {
    "duration": 8,
    "start_time": "2024-06-03T08:21:37.777Z"
   },
   {
    "duration": 43,
    "start_time": "2024-06-03T08:21:41.300Z"
   },
   {
    "duration": 8,
    "start_time": "2024-06-03T08:21:51.610Z"
   },
   {
    "duration": 5,
    "start_time": "2024-06-03T08:22:02.207Z"
   },
   {
    "duration": 33,
    "start_time": "2024-06-03T08:22:12.282Z"
   },
   {
    "duration": 16,
    "start_time": "2024-06-03T08:22:14.153Z"
   },
   {
    "duration": 4,
    "start_time": "2024-06-03T08:22:19.554Z"
   },
   {
    "duration": 8646,
    "start_time": "2024-06-03T08:22:26.641Z"
   },
   {
    "duration": 12,
    "start_time": "2024-06-03T08:22:42.395Z"
   },
   {
    "duration": 6,
    "start_time": "2024-06-03T08:22:55.057Z"
   },
   {
    "duration": 5,
    "start_time": "2024-06-03T08:23:07.144Z"
   },
   {
    "duration": 4,
    "start_time": "2024-06-03T08:23:11.521Z"
   },
   {
    "duration": 4,
    "start_time": "2024-06-03T08:23:18.121Z"
   },
   {
    "duration": 39,
    "start_time": "2024-06-03T08:23:20.597Z"
   },
   {
    "duration": 370,
    "start_time": "2024-06-03T08:23:28.933Z"
   },
   {
    "duration": 8,
    "start_time": "2024-06-03T08:24:05.772Z"
   },
   {
    "duration": 21,
    "start_time": "2024-06-03T08:24:12.337Z"
   },
   {
    "duration": 33,
    "start_time": "2024-06-03T08:24:33.891Z"
   },
   {
    "duration": 33,
    "start_time": "2024-06-03T08:25:53.915Z"
   },
   {
    "duration": 36,
    "start_time": "2024-06-03T08:29:51.247Z"
   },
   {
    "duration": 21,
    "start_time": "2024-06-03T08:32:02.720Z"
   },
   {
    "duration": 14,
    "start_time": "2024-06-03T08:32:16.819Z"
   },
   {
    "duration": 29,
    "start_time": "2024-06-03T08:33:12.357Z"
   },
   {
    "duration": 24,
    "start_time": "2024-06-03T08:33:42.400Z"
   },
   {
    "duration": 4,
    "start_time": "2024-06-03T08:38:01.953Z"
   },
   {
    "duration": 4,
    "start_time": "2024-06-03T08:43:50.952Z"
   },
   {
    "duration": 5905,
    "start_time": "2024-06-03T08:43:54.572Z"
   },
   {
    "duration": 51651,
    "start_time": "2024-06-03T10:49:48.870Z"
   },
   {
    "duration": 744,
    "start_time": "2024-06-03T10:51:02.551Z"
   },
   {
    "duration": 2407,
    "start_time": "2024-06-03T10:51:10.090Z"
   },
   {
    "duration": 15,
    "start_time": "2024-06-03T10:51:13.873Z"
   },
   {
    "duration": 8,
    "start_time": "2024-06-03T10:51:16.304Z"
   },
   {
    "duration": 43,
    "start_time": "2024-06-03T10:51:18.811Z"
   },
   {
    "duration": 3,
    "start_time": "2024-06-03T10:51:24.082Z"
   },
   {
    "duration": 45,
    "start_time": "2024-06-03T10:51:25.472Z"
   },
   {
    "duration": 5,
    "start_time": "2024-06-03T10:51:27.234Z"
   },
   {
    "duration": 7644,
    "start_time": "2024-06-03T10:51:32.151Z"
   },
   {
    "duration": 10,
    "start_time": "2024-06-03T10:51:42.738Z"
   },
   {
    "duration": 6,
    "start_time": "2024-06-03T10:51:49.122Z"
   },
   {
    "duration": 8,
    "start_time": "2024-06-03T10:52:05.497Z"
   },
   {
    "duration": 8,
    "start_time": "2024-06-03T10:52:06.971Z"
   },
   {
    "duration": 5,
    "start_time": "2024-06-03T10:52:08.790Z"
   },
   {
    "duration": 6,
    "start_time": "2024-06-03T10:52:15.858Z"
   },
   {
    "duration": 5404,
    "start_time": "2024-06-03T10:52:18.882Z"
   },
   {
    "duration": 72,
    "start_time": "2024-06-03T10:52:47.168Z"
   },
   {
    "duration": 2,
    "start_time": "2024-06-03T10:53:44.310Z"
   },
   {
    "duration": 3,
    "start_time": "2024-06-03T10:53:59.406Z"
   },
   {
    "duration": 399,
    "start_time": "2024-06-03T10:54:03.279Z"
   },
   {
    "duration": 46,
    "start_time": "2024-06-03T10:58:34.814Z"
   },
   {
    "duration": 4,
    "start_time": "2024-06-03T11:08:11.684Z"
   },
   {
    "duration": 87,
    "start_time": "2024-06-03T11:08:13.782Z"
   },
   {
    "duration": 3,
    "start_time": "2024-06-03T11:10:06.723Z"
   },
   {
    "duration": 50,
    "start_time": "2024-06-03T11:10:11.119Z"
   },
   {
    "duration": 6,
    "start_time": "2024-06-03T11:10:30.162Z"
   },
   {
    "duration": 4056,
    "start_time": "2024-06-03T11:10:31.837Z"
   },
   {
    "duration": 4162,
    "start_time": "2024-06-03T11:11:29.352Z"
   },
   {
    "duration": 128,
    "start_time": "2024-06-03T11:15:00.662Z"
   },
   {
    "duration": 28,
    "start_time": "2024-06-03T11:21:04.658Z"
   },
   {
    "duration": 23,
    "start_time": "2024-06-03T11:23:43.663Z"
   },
   {
    "duration": 68,
    "start_time": "2024-06-03T11:24:17.937Z"
   },
   {
    "duration": 67,
    "start_time": "2024-06-03T11:25:32.307Z"
   },
   {
    "duration": 54,
    "start_time": "2024-06-03T11:25:39.217Z"
   },
   {
    "duration": 42,
    "start_time": "2024-06-03T11:25:59.773Z"
   },
   {
    "duration": 51,
    "start_time": "2024-06-03T11:27:20.720Z"
   },
   {
    "duration": 91,
    "start_time": "2024-06-03T11:30:39.324Z"
   },
   {
    "duration": 57,
    "start_time": "2024-06-03T11:30:44.472Z"
   },
   {
    "duration": 53,
    "start_time": "2024-06-03T11:31:42.471Z"
   },
   {
    "duration": 50,
    "start_time": "2024-06-03T11:34:15.333Z"
   },
   {
    "duration": 50,
    "start_time": "2024-06-03T11:34:32.412Z"
   },
   {
    "duration": 26,
    "start_time": "2024-06-03T11:38:01.666Z"
   },
   {
    "duration": 16,
    "start_time": "2024-06-03T11:38:10.006Z"
   },
   {
    "duration": 18,
    "start_time": "2024-06-03T11:39:57.957Z"
   },
   {
    "duration": 45,
    "start_time": "2024-06-03T11:40:26.480Z"
   },
   {
    "duration": 51,
    "start_time": "2024-06-03T11:42:26.421Z"
   },
   {
    "duration": 158,
    "start_time": "2024-06-03T12:07:30.703Z"
   },
   {
    "duration": 44,
    "start_time": "2024-06-03T12:07:38.493Z"
   },
   {
    "duration": 37,
    "start_time": "2024-06-03T12:12:16.201Z"
   },
   {
    "duration": 5,
    "start_time": "2024-06-03T12:13:29.268Z"
   },
   {
    "duration": 138,
    "start_time": "2024-06-03T12:13:49.550Z"
   },
   {
    "duration": 13874,
    "start_time": "2024-06-03T12:16:19.191Z"
   },
   {
    "duration": 741,
    "start_time": "2024-06-03T12:16:54.709Z"
   },
   {
    "duration": 856,
    "start_time": "2024-06-03T12:17:01.520Z"
   },
   {
    "duration": 12,
    "start_time": "2024-06-03T12:17:12.780Z"
   },
   {
    "duration": 8,
    "start_time": "2024-06-03T12:17:16.350Z"
   },
   {
    "duration": 38,
    "start_time": "2024-06-03T12:17:17.520Z"
   },
   {
    "duration": 3,
    "start_time": "2024-06-03T12:17:28.610Z"
   },
   {
    "duration": 31,
    "start_time": "2024-06-03T12:17:30.690Z"
   },
   {
    "duration": 7,
    "start_time": "2024-06-03T12:17:33.637Z"
   },
   {
    "duration": 3,
    "start_time": "2024-06-03T12:17:38.938Z"
   },
   {
    "duration": 7229,
    "start_time": "2024-06-03T12:17:40.868Z"
   },
   {
    "duration": 8,
    "start_time": "2024-06-03T12:17:49.750Z"
   },
   {
    "duration": 6,
    "start_time": "2024-06-03T12:17:56.970Z"
   },
   {
    "duration": 11,
    "start_time": "2024-06-03T12:17:59.360Z"
   },
   {
    "duration": 5,
    "start_time": "2024-06-03T12:18:04.220Z"
   },
   {
    "duration": 4,
    "start_time": "2024-06-03T12:18:06.451Z"
   },
   {
    "duration": 4,
    "start_time": "2024-06-03T12:18:08.109Z"
   },
   {
    "duration": 4,
    "start_time": "2024-06-03T12:18:13.477Z"
   },
   {
    "duration": 4622,
    "start_time": "2024-06-03T12:18:15.360Z"
   },
   {
    "duration": 3,
    "start_time": "2024-06-03T12:18:29.556Z"
   },
   {
    "duration": 3,
    "start_time": "2024-06-03T12:18:32.677Z"
   },
   {
    "duration": 3362,
    "start_time": "2024-06-03T12:18:34.328Z"
   },
   {
    "duration": 355,
    "start_time": "2024-06-03T12:18:42.890Z"
   },
   {
    "duration": 4,
    "start_time": "2024-06-03T12:19:44.789Z"
   },
   {
    "duration": 1444,
    "start_time": "2024-06-03T12:20:02.916Z"
   },
   {
    "duration": 8894,
    "start_time": "2024-06-03T12:20:29.351Z"
   },
   {
    "duration": 41149,
    "start_time": "2024-06-03T12:21:42.918Z"
   },
   {
    "duration": 41556,
    "start_time": "2024-06-03T12:23:28.518Z"
   },
   {
    "duration": 41841,
    "start_time": "2024-06-03T12:24:48.410Z"
   },
   {
    "duration": 51,
    "start_time": "2024-06-03T12:28:52.395Z"
   },
   {
    "duration": 50,
    "start_time": "2024-06-03T12:29:19.146Z"
   },
   {
    "duration": 43,
    "start_time": "2024-06-03T12:30:16.153Z"
   },
   {
    "duration": 65,
    "start_time": "2024-06-03T13:32:54.124Z"
   },
   {
    "duration": 63,
    "start_time": "2024-06-03T13:33:56.949Z"
   },
   {
    "duration": 5,
    "start_time": "2024-06-03T13:34:34.621Z"
   },
   {
    "duration": 62,
    "start_time": "2024-06-03T13:35:50.704Z"
   },
   {
    "duration": 47183,
    "start_time": "2024-06-03T13:35:56.605Z"
   },
   {
    "duration": 47,
    "start_time": "2024-06-03T13:39:15.021Z"
   },
   {
    "duration": 64303,
    "start_time": "2024-06-03T13:39:23.036Z"
   },
   {
    "duration": 14841,
    "start_time": "2024-06-04T07:14:18.473Z"
   },
   {
    "duration": 784,
    "start_time": "2024-06-04T07:17:23.246Z"
   },
   {
    "duration": 2264,
    "start_time": "2024-06-04T07:17:31.094Z"
   },
   {
    "duration": 14,
    "start_time": "2024-06-04T07:17:35.567Z"
   },
   {
    "duration": 7,
    "start_time": "2024-06-04T07:17:40.512Z"
   },
   {
    "duration": 36,
    "start_time": "2024-06-04T07:17:42.046Z"
   },
   {
    "duration": 7,
    "start_time": "2024-06-04T07:17:46.447Z"
   },
   {
    "duration": 3,
    "start_time": "2024-06-04T07:17:55.737Z"
   },
   {
    "duration": 30,
    "start_time": "2024-06-04T07:18:02.779Z"
   },
   {
    "duration": 7,
    "start_time": "2024-06-04T07:18:04.242Z"
   },
   {
    "duration": 4,
    "start_time": "2024-06-04T07:18:10.562Z"
   },
   {
    "duration": 6982,
    "start_time": "2024-06-04T07:18:13.922Z"
   },
   {
    "duration": 7,
    "start_time": "2024-06-04T07:18:22.791Z"
   },
   {
    "duration": 11,
    "start_time": "2024-06-04T07:19:13.592Z"
   },
   {
    "duration": 205,
    "start_time": "2024-06-04T07:21:21.502Z"
   },
   {
    "duration": 10,
    "start_time": "2024-06-04T07:21:54.738Z"
   },
   {
    "duration": 188,
    "start_time": "2024-06-04T07:22:02.502Z"
   },
   {
    "duration": 408,
    "start_time": "2024-06-04T07:23:20.614Z"
   },
   {
    "duration": 111,
    "start_time": "2024-06-04T07:24:19.734Z"
   },
   {
    "duration": 138,
    "start_time": "2024-06-04T07:25:01.442Z"
   },
   {
    "duration": 118,
    "start_time": "2024-06-04T07:25:20.512Z"
   },
   {
    "duration": 119,
    "start_time": "2024-06-04T07:25:42.374Z"
   },
   {
    "duration": 6,
    "start_time": "2024-06-04T07:26:50.622Z"
   },
   {
    "duration": 12,
    "start_time": "2024-06-04T07:26:52.402Z"
   },
   {
    "duration": 5,
    "start_time": "2024-06-04T07:26:56.412Z"
   },
   {
    "duration": 3,
    "start_time": "2024-06-04T07:26:58.383Z"
   },
   {
    "duration": 3,
    "start_time": "2024-06-04T07:27:00.193Z"
   },
   {
    "duration": 4,
    "start_time": "2024-06-04T07:27:12.605Z"
   },
   {
    "duration": 3455,
    "start_time": "2024-06-04T07:27:14.535Z"
   },
   {
    "duration": 41852,
    "start_time": "2024-06-04T07:32:37.503Z"
   },
   {
    "duration": 4,
    "start_time": "2024-06-04T07:33:19.356Z"
   },
   {
    "duration": 317,
    "start_time": "2024-06-04T07:33:46.702Z"
   },
   {
    "duration": 3,
    "start_time": "2024-06-04T07:33:53.493Z"
   },
   {
    "duration": 3,
    "start_time": "2024-06-04T07:33:54.682Z"
   },
   {
    "duration": 3085,
    "start_time": "2024-06-04T07:33:55.712Z"
   },
   {
    "duration": 55851,
    "start_time": "2024-06-04T07:34:30.622Z"
   },
   {
    "duration": 132,
    "start_time": "2024-06-04T07:37:03.832Z"
   },
   {
    "duration": 24,
    "start_time": "2024-06-04T07:39:52.202Z"
   },
   {
    "duration": 16,
    "start_time": "2024-06-04T07:41:08.292Z"
   },
   {
    "duration": 16,
    "start_time": "2024-06-04T07:41:26.672Z"
   },
   {
    "duration": 16,
    "start_time": "2024-06-04T07:44:05.200Z"
   },
   {
    "duration": 4,
    "start_time": "2024-06-04T07:45:15.635Z"
   },
   {
    "duration": 122,
    "start_time": "2024-06-04T07:45:27.468Z"
   },
   {
    "duration": 44,
    "start_time": "2024-06-04T07:48:25.788Z"
   },
   {
    "duration": 14135,
    "start_time": "2024-06-04T07:48:32.107Z"
   },
   {
    "duration": 842,
    "start_time": "2024-06-04T07:48:49.272Z"
   },
   {
    "duration": 265,
    "start_time": "2024-06-04T07:48:56.440Z"
   },
   {
    "duration": 2203,
    "start_time": "2024-06-04T07:49:03.987Z"
   },
   {
    "duration": 15,
    "start_time": "2024-06-04T07:49:08.539Z"
   },
   {
    "duration": 13895,
    "start_time": "2024-06-04T07:49:38.748Z"
   },
   {
    "duration": 861,
    "start_time": "2024-06-04T07:49:54.355Z"
   },
   {
    "duration": 2226,
    "start_time": "2024-06-04T07:50:00.412Z"
   },
   {
    "duration": 14,
    "start_time": "2024-06-04T07:50:03.772Z"
   },
   {
    "duration": 16956,
    "start_time": "2024-06-06T06:29:45.197Z"
   },
   {
    "duration": 5849,
    "start_time": "2024-06-06T06:30:05.358Z"
   },
   {
    "duration": 1021,
    "start_time": "2024-06-06T06:30:19.001Z"
   },
   {
    "duration": 2548,
    "start_time": "2024-06-06T06:30:27.126Z"
   },
   {
    "duration": 6,
    "start_time": "2024-06-06T06:30:52.708Z"
   },
   {
    "duration": 5,
    "start_time": "2024-06-06T06:30:59.879Z"
   },
   {
    "duration": 5294,
    "start_time": "2024-06-06T06:33:32.752Z"
   },
   {
    "duration": 1335,
    "start_time": "2024-06-06T06:33:44.407Z"
   },
   {
    "duration": 1120915,
    "start_time": "2024-06-06T06:34:12.745Z"
   },
   {
    "duration": 207,
    "start_time": "2024-06-06T06:54:57.266Z"
   },
   {
    "duration": 809,
    "start_time": "2024-06-06T06:55:05.408Z"
   },
   {
    "duration": 425,
    "start_time": "2024-06-06T06:56:15.352Z"
   },
   {
    "duration": 75,
    "start_time": "2024-06-06T06:56:16.730Z"
   },
   {
    "duration": 6,
    "start_time": "2024-06-06T06:56:22.470Z"
   },
   {
    "duration": 4,
    "start_time": "2024-06-06T06:56:23.992Z"
   },
   {
    "duration": 5,
    "start_time": "2024-06-06T06:56:29.091Z"
   },
   {
    "duration": 5,
    "start_time": "2024-06-06T06:56:41.578Z"
   },
   {
    "duration": 844166,
    "start_time": "2024-06-06T06:56:49.018Z"
   },
   {
    "duration": 5,
    "start_time": "2024-06-06T07:13:11.524Z"
   },
   {
    "duration": 3,
    "start_time": "2024-06-06T07:13:12.678Z"
   },
   {
    "duration": 1222363,
    "start_time": "2024-06-06T07:13:14.139Z"
   },
   {
    "duration": 4,
    "start_time": "2024-06-06T07:37:53.725Z"
   },
   {
    "duration": 4965670,
    "start_time": "2024-06-06T07:37:55.308Z"
   },
   {
    "duration": 9,
    "start_time": "2024-06-06T09:00:40.981Z"
   },
   {
    "duration": 46,
    "start_time": "2024-06-06T09:08:45.271Z"
   },
   {
    "duration": 3,
    "start_time": "2024-06-06T09:11:10.369Z"
   },
   {
    "duration": 22,
    "start_time": "2024-06-06T09:11:32.985Z"
   },
   {
    "duration": 34,
    "start_time": "2024-06-06T09:12:37.467Z"
   },
   {
    "duration": 2,
    "start_time": "2024-06-06T09:13:46.799Z"
   },
   {
    "duration": 15431,
    "start_time": "2024-06-06T09:13:47.960Z"
   },
   {
    "duration": 4,
    "start_time": "2024-06-06T09:15:14.726Z"
   },
   {
    "duration": 12,
    "start_time": "2024-06-06T09:15:16.376Z"
   },
   {
    "duration": 22204,
    "start_time": "2024-06-06T09:15:17.587Z"
   },
   {
    "duration": 1202728,
    "start_time": "2024-06-06T09:15:55.657Z"
   },
   {
    "duration": 4,
    "start_time": "2024-06-06T09:38:49.601Z"
   },
   {
    "duration": 3,
    "start_time": "2024-06-06T09:38:50.981Z"
   },
   {
    "duration": 22809,
    "start_time": "2024-06-06T09:38:51.977Z"
   }
  ],
  "kernelspec": {
   "display_name": "Python 3 (ipykernel)",
   "language": "python",
   "name": "python3"
  },
  "language_info": {
   "codemirror_mode": {
    "name": "ipython",
    "version": 3
   },
   "file_extension": ".py",
   "mimetype": "text/x-python",
   "name": "python",
   "nbconvert_exporter": "python",
   "pygments_lexer": "ipython3",
   "version": "3.11.5"
  },
  "toc": {
   "base_numbering": 1,
   "nav_menu": {},
   "number_sections": true,
   "sideBar": true,
   "skip_h1_title": true,
   "title_cell": "Содержание",
   "title_sidebar": "Contents",
   "toc_cell": true,
   "toc_position": {
    "height": "calc(100% - 180px)",
    "left": "10px",
    "top": "150px",
    "width": "302.391px"
   },
   "toc_section_display": true,
   "toc_window_display": false
  }
 },
 "nbformat": 4,
 "nbformat_minor": 2
}
